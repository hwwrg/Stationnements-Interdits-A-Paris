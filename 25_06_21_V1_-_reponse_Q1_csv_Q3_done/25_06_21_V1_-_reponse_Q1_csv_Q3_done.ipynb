{
 "cells": [
  {
   "cell_type": "code",
   "execution_count": 1,
   "metadata": {},
   "outputs": [],
   "source": [
    "import pandas as pd \n",
    "import numpy as np \n",
    "import scipy\n",
    "import matplotlib\n",
    "import matplotlib.pyplot as plt"
   ]
  },
  {
   "cell_type": "code",
   "execution_count": 2,
   "metadata": {},
   "outputs": [],
   "source": [
    "pd.options.display.max_rows = 10"
   ]
  },
  {
   "cell_type": "code",
   "execution_count": 3,
   "metadata": {},
   "outputs": [
    {
     "data": {
      "text/html": [
       "<div>\n",
       "<style scoped>\n",
       "    .dataframe tbody tr th:only-of-type {\n",
       "        vertical-align: middle;\n",
       "    }\n",
       "\n",
       "    .dataframe tbody tr th {\n",
       "        vertical-align: top;\n",
       "    }\n",
       "\n",
       "    .dataframe thead th {\n",
       "        text-align: right;\n",
       "    }\n",
       "</style>\n",
       "<table border=\"1\" class=\"dataframe\">\n",
       "  <thead>\n",
       "    <tr style=\"text-align: right;\">\n",
       "      <th></th>\n",
       "      <th>identifiant</th>\n",
       "      <th>Arrondissement</th>\n",
       "      <th>Duree</th>\n",
       "    </tr>\n",
       "  </thead>\n",
       "  <tbody>\n",
       "    <tr>\n",
       "      <th>0</th>\n",
       "      <td>3210</td>\n",
       "      <td>13.0</td>\n",
       "      <td>1140.0</td>\n",
       "    </tr>\n",
       "    <tr>\n",
       "      <th>1</th>\n",
       "      <td>3232</td>\n",
       "      <td>13.0</td>\n",
       "      <td>1440.0</td>\n",
       "    </tr>\n",
       "    <tr>\n",
       "      <th>2</th>\n",
       "      <td>3271</td>\n",
       "      <td>5.0</td>\n",
       "      <td>1440.0</td>\n",
       "    </tr>\n",
       "    <tr>\n",
       "      <th>3</th>\n",
       "      <td>3280</td>\n",
       "      <td>5.0</td>\n",
       "      <td>1440.0</td>\n",
       "    </tr>\n",
       "    <tr>\n",
       "      <th>4</th>\n",
       "      <td>3277</td>\n",
       "      <td>5.0</td>\n",
       "      <td>1440.0</td>\n",
       "    </tr>\n",
       "  </tbody>\n",
       "</table>\n",
       "</div>"
      ],
      "text/plain": [
       "  identifiant  Arrondissement   Duree\n",
       "0        3210            13.0  1140.0\n",
       "1        3232            13.0  1440.0\n",
       "2        3271             5.0  1440.0\n",
       "3        3280             5.0  1440.0\n",
       "4        3277             5.0  1440.0"
      ]
     },
     "execution_count": 3,
     "metadata": {},
     "output_type": "execute_result"
    }
   ],
   "source": [
    "df_Q1_Clean = pd.read_csv('df_Q1_Clean.csv', header=0)\n",
    "df_Q1_Clean.head()"
   ]
  },
  {
   "cell_type": "code",
   "execution_count": 4,
   "metadata": {},
   "outputs": [
    {
     "name": "stdout",
     "output_type": "stream",
     "text": [
      "<pandas.core.groupby.generic.DataFrameGroupBy object at 0x0000000017F93B38>\n"
     ]
    }
   ],
   "source": [
    "g_Q1 = df_Q1_Clean.groupby('Arrondissement')\n",
    "print(g_Q1)"
   ]
  },
  {
   "cell_type": "code",
   "execution_count": 5,
   "metadata": {},
   "outputs": [
    {
     "name": "stdout",
     "output_type": "stream",
     "text": [
      "   Arrondissement  Duree_Sum\n",
      "0            -1.0     4320.0\n",
      "2             1.0   657810.0\n",
      "3             2.0   544920.0\n",
      "4             3.0   634200.0\n",
      "5             4.0   714360.0\n"
     ]
    }
   ],
   "source": [
    "# Somme de duree par arrondissement\n",
    "df_duree_sum = g_Q1[['Duree']].agg([pd.Series.sum])\n",
    "\n",
    "# Reset the index and the columns\n",
    "df_duree_sum = df_duree_sum.reset_index()\n",
    "df_duree_sum.columns = df_duree_sum.columns.droplevel(1)\n",
    "df_duree_sum = df_duree_sum.rename(columns={'Duree':'Duree_Sum'})\n",
    "\n",
    "# Supprimer arrodissement 0\n",
    "df_duree_sum = df_duree_sum.drop(1, axis=0)\n",
    "print(df_duree_sum.head())"
   ]
  },
  {
   "cell_type": "code",
   "execution_count": 6,
   "metadata": {},
   "outputs": [
    {
     "name": "stdout",
     "output_type": "stream",
     "text": [
      "les plus courts :     Arrondissement  Duree_Sum\n",
      "0             -1.0     4320.0\n",
      "3              2.0   544920.0\n",
      "22            21.0   551520.0\n",
      "23            22.0   599040.0\n",
      "4              3.0   634200.0\n",
      "..             ...        ...\n",
      "18            17.0  1834139.0\n",
      "21            20.0  1910100.0\n",
      "14            13.0  1924500.0\n",
      "16            15.0  2152740.0\n",
      "17            16.0  2505660.0\n",
      "\n",
      "[23 rows x 2 columns]\n",
      "les plus courts :     Arrondissement  Duree_Sum\n",
      "17            16.0  2505660.0\n",
      "16            15.0  2152740.0\n",
      "14            13.0  1924500.0\n",
      "21            20.0  1910100.0\n",
      "18            17.0  1834139.0\n",
      "..             ...        ...\n",
      "4              3.0   634200.0\n",
      "23            22.0   599040.0\n",
      "22            21.0   551520.0\n",
      "3              2.0   544920.0\n",
      "0             -1.0     4320.0\n",
      "\n",
      "[23 rows x 2 columns]\n"
     ]
    }
   ],
   "source": [
    "# Answers\n",
    "df_Q1_Court = df_duree_sum.sort_values(by='Duree_Sum')\n",
    "print(\"les plus courts :\", df_Q1_Court)\n",
    "df_Q1_Long = df_duree_sum.sort_values(by='Duree_Sum', ascending=False)\n",
    "print(\"les plus courts :\", df_Q1_Long)"
   ]
  },
  {
   "cell_type": "code",
   "execution_count": 7,
   "metadata": {},
   "outputs": [
    {
     "data": {
      "text/plain": [
       "<AxesSubplot:xlabel='Arrondissement'>"
      ]
     },
     "execution_count": 7,
     "metadata": {},
     "output_type": "execute_result"
    },
    {
     "data": {
      "image/png": "[encoded data removed]",
      "text/plain": [
       "<Figure size 432x288 with 1 Axes>"
      ]
     },
     "metadata": {
      "needs_background": "light"
     },
     "output_type": "display_data"
    }
   ],
   "source": [
    "# Table plot\n",
    "df_duree_sum.plot(x='Arrondissement', y='Duree_Sum')"
   ]
  },
  {
   "cell_type": "code",
   "execution_count": 8,
   "metadata": {},
   "outputs": [
    {
     "data": {
      "image/png": "[encoded data removed]",
      "text/plain": [
       "<Figure size 288x288 with 1 Axes>"
      ]
     },
     "metadata": {
      "needs_background": "light"
     },
     "output_type": "display_data"
    }
   ],
   "source": [
    "fig=plt.figure(num=1,figsize=(4,4))\n",
    "ax=fig.add_subplot(111)\n",
    "ax.plot(df_duree_sum['Arrondissement'], df_duree_sum['Duree_Sum'])\n",
    "ax.set_xlim(1,7.1)\n",
    "ax.set_xticks(np.linspace(1,22,22))\n",
    "ax.set_title(\"Plages dispo par Arron\", fontsize=18, backgroundcolor='#3c7f99', fontweight='bold',color='white',verticalalignment=\"baseline\")\n",
    "plt.show()\n",
    "# https://zhuanlan.zhihu.com/p/139052035\n",
    "# del"
   ]
  },
  {
   "cell_type": "code",
   "execution_count": 9,
   "metadata": {},
   "outputs": [
    {
     "name": "stdout",
     "output_type": "stream",
     "text": [
      "2020-08-31    0.703254\n",
      "2018-05-01    0.013854\n",
      "2020-08-01    0.013074\n",
      "2020-07-07    0.010049\n",
      "2020-07-09    0.009610\n",
      "                ...   \n",
      "2015-08-02    0.000049\n",
      "2020-09-04    0.000049\n",
      "1970-01-23    0.000049\n",
      "2020-03-02    0.000049\n",
      "2021-06-01    0.000049\n",
      "Name: Date_du_releve, Length: 126, dtype: float64 2020-08-24    0.017222\n",
      "2020-08-14    0.017173\n",
      "2020-08-20    0.016539\n",
      "2017-08-17    0.015905\n",
      "2020-08-28    0.014539\n",
      "                ...   \n",
      "2018-12-03    0.000049\n",
      "2018-12-06    0.000049\n",
      "2018-12-04    0.000049\n",
      "2019-09-27    0.000049\n",
      "2021-04-16    0.000049\n",
      "Name: Derniere_date_edition, Length: 396, dtype: float64\n"
     ]
    }
   ],
   "source": [
    "# Question 3 : Dans quels mois était plus / moins garé plus longtemps / plus courts ?\n",
    "# Explorer les colonnes 'Date_du_releve' et 'Derniere_date_edition'\n",
    "df = pd.read_csv('stationnements.txt', sep='\\t', header=0)\n",
    "df.columns\n",
    "print(df['Date_du_releve'].value_counts(normalize=True),\n",
    "      df['Derniere_date_edition'].value_counts(normalize=True))"
   ]
  },
  {
   "cell_type": "code",
   "execution_count": 10,
   "metadata": {},
   "outputs": [],
   "source": [
    "# Il y 70% de lignes ont '2020-08-31' dans 'Date_du_releve' qui va géner le resultat.\n",
    "# On va donc prendre la colonne 'Date_du_releve'"
   ]
  },
  {
   "cell_type": "code",
   "execution_count": 18,
   "metadata": {},
   "outputs": [
    {
     "name": "stdout",
     "output_type": "stream",
     "text": [
      "  identifiant  Arrondissement   Duree Date_du_releve\n",
      "0        3210            13.0  1140.0     2020-08-31\n",
      "1        3232            13.0  1440.0     2020-07-21\n",
      "2        3271             5.0  1440.0     2020-08-31\n",
      "3        3280             5.0  1440.0     2020-08-31\n",
      "4        3277             5.0  1440.0     2020-08-31\n",
      "<class 'pandas.core.frame.DataFrame'>\n",
      "RangeIndex: 20499 entries, 0 to 20498\n",
      "Data columns (total 4 columns):\n",
      " #   Column          Non-Null Count  Dtype  \n",
      "---  ------          --------------  -----  \n",
      " 0   identifiant     20499 non-null  object \n",
      " 1   Arrondissement  20499 non-null  float64\n",
      " 2   Duree           20499 non-null  float64\n",
      " 3   Date_du_releve  20499 non-null  object \n",
      "dtypes: float64(2), object(2)\n",
      "memory usage: 640.7+ KB\n",
      "None\n"
     ]
    }
   ],
   "source": [
    "# Reprendre df_Q1_Clean et ajouter la colonne 'Date_du_releve'\n",
    "df_Q1_Clean['Date_du_releve'] = df['Date_du_releve']\n",
    "df_Q3 = df_Q1_Clean.copy()\n",
    "print(df_Q3.head())\n",
    "print(df_Q3.info())"
   ]
  },
  {
   "cell_type": "code",
   "execution_count": 20,
   "metadata": {},
   "outputs": [
    {
     "name": "stderr",
     "output_type": "stream",
     "text": [
      "c:\\users\\tf\\appdata\\local\\programs\\python\\python37\\lib\\site-packages\\ipykernel_launcher.py:2: DeprecationWarning: The default dtype for empty Series will be 'object' instead of 'float64' in a future version. Specify a dtype explicitly to silence this warning.\n",
      "  \n",
      "c:\\users\\tf\\appdata\\local\\programs\\python\\python37\\lib\\site-packages\\ipykernel_launcher.py:4: SettingWithCopyWarning: \n",
      "A value is trying to be set on a copy of a slice from a DataFrame\n",
      "\n",
      "See the caveats in the documentation: https://pandas.pydata.org/pandas-docs/stable/user_guide/indexing.html#returning-a-view-versus-a-copy\n",
      "  after removing the cwd from sys.path.\n"
     ]
    },
    {
     "data": {
      "text/html": [
       "<div>\n",
       "<style scoped>\n",
       "    .dataframe tbody tr th:only-of-type {\n",
       "        vertical-align: middle;\n",
       "    }\n",
       "\n",
       "    .dataframe tbody tr th {\n",
       "        vertical-align: top;\n",
       "    }\n",
       "\n",
       "    .dataframe thead th {\n",
       "        text-align: right;\n",
       "    }\n",
       "</style>\n",
       "<table border=\"1\" class=\"dataframe\">\n",
       "  <thead>\n",
       "    <tr style=\"text-align: right;\">\n",
       "      <th></th>\n",
       "      <th>identifiant</th>\n",
       "      <th>Arrondissement</th>\n",
       "      <th>Duree</th>\n",
       "      <th>Date_du_releve</th>\n",
       "      <th>Mois</th>\n",
       "    </tr>\n",
       "  </thead>\n",
       "  <tbody>\n",
       "    <tr>\n",
       "      <th>0</th>\n",
       "      <td>3210</td>\n",
       "      <td>13.0</td>\n",
       "      <td>1140.0</td>\n",
       "      <td>2020-08-31</td>\n",
       "      <td>8.0</td>\n",
       "    </tr>\n",
       "    <tr>\n",
       "      <th>1</th>\n",
       "      <td>3232</td>\n",
       "      <td>13.0</td>\n",
       "      <td>1440.0</td>\n",
       "      <td>2020-07-21</td>\n",
       "      <td>7.0</td>\n",
       "    </tr>\n",
       "    <tr>\n",
       "      <th>2</th>\n",
       "      <td>3271</td>\n",
       "      <td>5.0</td>\n",
       "      <td>1440.0</td>\n",
       "      <td>2020-08-31</td>\n",
       "      <td>8.0</td>\n",
       "    </tr>\n",
       "    <tr>\n",
       "      <th>3</th>\n",
       "      <td>3280</td>\n",
       "      <td>5.0</td>\n",
       "      <td>1440.0</td>\n",
       "      <td>2020-08-31</td>\n",
       "      <td>8.0</td>\n",
       "    </tr>\n",
       "    <tr>\n",
       "      <th>4</th>\n",
       "      <td>3277</td>\n",
       "      <td>5.0</td>\n",
       "      <td>1440.0</td>\n",
       "      <td>2020-08-31</td>\n",
       "      <td>8.0</td>\n",
       "    </tr>\n",
       "  </tbody>\n",
       "</table>\n",
       "</div>"
      ],
      "text/plain": [
       "  identifiant  Arrondissement   Duree Date_du_releve  Mois\n",
       "0        3210            13.0  1140.0     2020-08-31   8.0\n",
       "1        3232            13.0  1440.0     2020-07-21   7.0\n",
       "2        3271             5.0  1440.0     2020-08-31   8.0\n",
       "3        3280             5.0  1440.0     2020-08-31   8.0\n",
       "4        3277             5.0  1440.0     2020-08-31   8.0"
      ]
     },
     "execution_count": 20,
     "metadata": {},
     "output_type": "execute_result"
    }
   ],
   "source": [
    "# Transférer jour à mois et ajouter la colonne 'Mois'\n",
    "df_Q3['Mois'] = pd.Series([])\n",
    "for row in range(0,df_Q3.shape[0]):\n",
    "    df_Q3['Mois'][row] = df['Date_du_releve'][row][5:7]\n",
    "df_Q3.head()"
   ]
  },
  {
   "cell_type": "code",
   "execution_count": 22,
   "metadata": {},
   "outputs": [],
   "source": [
    "df_Q3_Clean = df_Q2.copy()\n",
    "df_Q3_Clean.to_csv('df_Q3_Clean.csv')"
   ]
  }
 ],
 "metadata": {
  "interpreter": {
   "hash": "916dbcbb3f70747c44a77c7bcd40155683ae19c65e1c03b4aa3499c5328201f1"
  },
  "kernelspec": {
   "display_name": "Python 3",
   "language": "python",
   "name": "python3"
  },
  "language_info": {
   "codemirror_mode": {
    "name": "ipython",
    "version": 3
   },
   "file_extension": ".py",
   "mimetype": "text/x-python",
   "name": "python",
   "nbconvert_exporter": "python",
   "pygments_lexer": "ipython3",
   "version": "3.7.3"
  }
 },
 "nbformat": 4,
 "nbformat_minor": 4
}
