{
 "cells": [
  {
   "cell_type": "code",
   "execution_count": 19,
   "id": "48c2ad64-c164-456a-a00c-0c3290c901fd",
   "metadata": {},
   "outputs": [],
   "source": [
    "import pandas     \n",
    "import numpy      \n",
    "import datetime"
   ]
  },
  {
   "cell_type": "code",
   "execution_count": 20,
   "id": "a2a0a0d8-45d1-4661-b537-b54053cb57d5",
   "metadata": {},
   "outputs": [],
   "source": [
    "pandas.options.display.max_rows = 10                                              \n",
    "df = pandas.read_csv(\"stationnements.txt\", sep='\\t', header=0)   "
   ]
  },
  {
   "cell_type": "code",
   "execution_count": 21,
   "id": "b5925850-efc7-42b5-80a7-9065a2e367a9",
   "metadata": {
    "tags": []
   },
   "outputs": [],
   "source": [
    "def exploreData(data):\n",
    "    if type(data) == pandas.core.frame.DataFrame:\n",
    "        print(\"-\"*60, \"\\n\", data.head(), data.describe(), data.value_counts(),\"\\n\", \"-\"*60)\n",
    "    if type(data) == pandas.core.series.Series:\n",
    "        print(\"-\"*60, \"\\n\", data.value_counts(), data.shape, \"\\n\", \"-\"*60)    "
   ]
  },
  {
   "cell_type": "code",
   "execution_count": 22,
   "id": "56cbbb8f-9c4e-4ed5-a86b-411034b833e5",
   "metadata": {
    "tags": []
   },
   "outputs": [],
   "source": [
    "# infos de df\n",
    "# print(exploreData(df))"
   ]
  },
  {
   "cell_type": "code",
   "execution_count": 23,
   "id": "efef1617-7b76-465e-890e-f41ee2505ded",
   "metadata": {},
   "outputs": [
    {
     "name": "stdout",
     "output_type": "stream",
     "text": [
      "identifiant : False\n",
      "Regime_prioritaire : False\n",
      "Regime_particulier : False\n",
      "Arrondissement : True\n",
      "Zone_Residentielle : True\n",
      "Tarification : True\n",
      "Type_de_voie : True\n",
      "Nom_de_la_voie : True\n",
      "Parite : True\n",
      "Longueur : False\n",
      "Longueur_calculee : False\n",
      "Signalisation_horizontale : False\n",
      "Signalisation_verticale : False\n",
      "Conformite_signalisation : False\n",
      "Plage_horaire_1-Debut : True\n",
      "Plage_horaire_1-Fin : True\n",
      "Plage_horaire_2-Debut : True\n",
      "Plage_horaire_2-Fin : True\n",
      "Date_du_releve : False\n",
      "Derniere_date_edition : True\n",
      "Code_Voie_Ville_de_Paris : False\n",
      "Numero_Sequentiel_Tronçon_Voie : True\n",
      "Zone_ASP : True\n",
      "Numero_Section_Territoriale_de_Voirie : True\n",
      "geo_point_2d : False\n"
     ]
    }
   ],
   "source": [
    "#On va voir les uniques valeurs dans chaque colonne et dans quelles colonnes se trouve NaN.\n",
    "for col in df.columns.tolist():\n",
    "    print(\"{} : {}\".format(col, df[col].isnull().any()))"
   ]
  },
  {
   "cell_type": "code",
   "execution_count": 24,
   "id": "96ee5684-ad6d-4c6f-9203-6dbfd88735f0",
   "metadata": {},
   "outputs": [],
   "source": [
    "# Q1 : Dans quel arrondissement il y a le plus de places disponibles aux plages de stationnement ouverts?\n",
    "# (combien d'heures par arrondissement)"
   ]
  },
  {
   "cell_type": "code",
   "execution_count": 25,
   "id": "8b2a944d-cd56-40df-9f87-4d6b1d87c9b4",
   "metadata": {},
   "outputs": [
    {
     "name": "stdout",
     "output_type": "stream",
     "text": [
      "------------------------------------------------------------ \n",
      "   identifiant  Arrondissement Plage_horaire_1-Debut Plage_horaire_1-Fin  \\\n",
      "0        3210            13.0                 19:30               07:30   \n",
      "1        3232            13.0                   NaN                 NaN   \n",
      "2        3271             5.0                   NaN                 NaN   \n",
      "3        3280             5.0                   NaN                 NaN   \n",
      "4        3277             5.0                   NaN                 NaN   \n",
      "\n",
      "  Plage_horaire_2-Debut Plage_horaire_2-Fin  \n",
      "0                 09:30               16:30  \n",
      "1                   NaN                 NaN  \n",
      "2                   NaN                 NaN  \n",
      "3                   NaN                 NaN  \n",
      "4                   NaN                 NaN          Arrondissement\n",
      "count    18858.000000\n",
      "mean        12.963888\n",
      "std          5.459199\n",
      "min         -1.000000\n",
      "25%          9.000000\n",
      "50%         14.000000\n",
      "75%         17.000000\n",
      "max         22.000000 identifiant            Arrondissement  Plage_horaire_1-Debut  Plage_horaire_1-Fin  Plage_horaire_2-Debut  Plage_horaire_2-Fin\n",
      "014306D20111122103008  14.0            19:30                  07:30                09:30                  16:30                  1\n",
      "6923                   20.0            19:30                  07:30                09:30                  16:30                  1\n",
      "7122                   4.0             19:30                  07:30                09:30                  16:30                  1\n",
      "7147                   9.0             19:30                  07:30                09:30                  16:30                  1\n",
      "717                    5.0             09:30                  16:30                19:30                  07:30                  1\n",
      "                                                                                                                                ..\n",
      "3570                   14.0            19:30                  07:30                09:30                  16:30                  1\n",
      "3579                   14.0            19:30                  07:30                09:30                  16:30                  1\n",
      "362701G20111005145611  19.0            19:30                  07:30                09:30                  16:30                  1\n",
      "364201D20141128155805  11.0            09:30                  16:30                19:30                  07:30                  1\n",
      "9967                   19.0            19:30                  07:30                09:30                  16:30                  1\n",
      "Length: 646, dtype: int64 \n",
      " ------------------------------------------------------------\n",
      "None\n"
     ]
    }
   ],
   "source": [
    "# Ségmentation : on tire les colonnes conernates\n",
    "colonnes_Q1 = [ \"identifiant\", \"Arrondissement\", \n",
    "               \"Plage_horaire_1-Debut\", \n",
    "               \"Plage_horaire_1-Fin\", \n",
    "               \"Plage_horaire_2-Debut\", \n",
    "               \"Plage_horaire_2-Fin\"]\n",
    "df_Q1 = df.loc[:, colonnes_Q1]\n",
    "print(exploreData(df_Q1))"
   ]
  },
  {
   "cell_type": "code",
   "execution_count": 26,
   "id": "bbbe5214-88df-44d9-b0e1-f6dfd20f29d5",
   "metadata": {},
   "outputs": [],
   "source": [
    "#=Commentaire=\n",
    "#'value_counts' sur 'df_Q1' a sorti 646 lignes.\n",
    "#On va voir les uniques valeurs dans chaque colonne et dans quelles colonnes se trouve NaN."
   ]
  },
  {
   "cell_type": "code",
   "execution_count": 27,
   "id": "dffa3e28-7ee9-4837-b2c1-630a1ae8e11a",
   "metadata": {},
   "outputs": [
    {
     "name": "stdout",
     "output_type": "stream",
     "text": [
      "['3210' '3232' '3271' ... '10812' '10848' '10859']\n",
      "[13.  5.  6. 11. 20. 18. 19. 15. 12.  4.  7. 16. 14.  9. 17. nan  2.  8.\n",
      " 10. 21.  1. 22.  3. -1.]\n",
      "['19:30' nan '09:30' '05:00' '07:00' '19:00' '07:30' '14:00' '19:20'\n",
      " '08:15']\n",
      "['07:30' nan '16:30' '19:00' '14:30' '18:00' '07:00' '09:30' '17:30'\n",
      " '07:20' '20:00' '08:45']\n",
      "['09:30' nan '19:30' '07:30' '05:00' '16:30' '20:00' '19:00' '09:38'\n",
      " '09:00' '16:15']\n",
      "['16:30' nan '07:30' '14:30' '09:30' '19:30' '22:00' '18:30' '16:00'\n",
      " '16:29' '16:45' '17:30']\n"
     ]
    }
   ],
   "source": [
    "for col in df_Q1.columns.tolist():\n",
    "    print(df_Q1[col].unique())"
   ]
  },
  {
   "cell_type": "code",
   "execution_count": 28,
   "id": "0cfc9919-0589-4e53-b528-a8f19c91f935",
   "metadata": {},
   "outputs": [
    {
     "name": "stdout",
     "output_type": "stream",
     "text": [
      "identifiant False\n",
      "Arrondissement True\n",
      "Plage_horaire_1-Debut True\n",
      "Plage_horaire_1-Fin True\n",
      "Plage_horaire_2-Debut True\n",
      "Plage_horaire_2-Fin True\n"
     ]
    }
   ],
   "source": [
    "for col in df_Q1.columns.tolist():\n",
    "    print(col, df_Q1[col].isnull().any())"
   ]
  },
  {
   "cell_type": "code",
   "execution_count": 29,
   "id": "8b0de7cb-bf18-4606-9809-9c28f1a300a5",
   "metadata": {},
   "outputs": [],
   "source": [
    "# Toutes les colonnes 'plage horaire' ont le Nan,\n",
    "# c'est-à-dire qu'il y a des places ont tous Nan dans les 'plage horaire'\n",
    "# On compte 3 types de créneaux : \n",
    "#    A,Plage horaire 1; \n",
    "#    B,Plage horaire 2; \n",
    "#    C, 24h pour les place avec que Nan dans 'plage horaire'"
   ]
  },
  {
   "cell_type": "code",
   "execution_count": 30,
   "id": "0446d85a-acb2-47bd-9077-ddcef751b986",
   "metadata": {},
   "outputs": [
    {
     "name": "stdout",
     "output_type": "stream",
     "text": [
      "Index(['identifiant', 'Arrondissement', 'P1D', 'P1F', 'P2D', 'P2F'], dtype='object')\n"
     ]
    }
   ],
   "source": [
    "# On va transférer la donné 'plage horaire' en minutes pour faciliter les calculs\n",
    "# Changement des noms colonnes\n",
    "df_Q1 = df_Q1.rename(columns={\"Plage_horaire_1-Debut\":\"P1D\", \n",
    "                                          \"Plage_horaire_1-Fin\":\"P1F\",\n",
    "                                          \"Plage_horaire_2-Debut\":\"P2D\",\n",
    "                                          \"Plage_horaire_2-Fin\":\"P2F\"})\n",
    "print(df_Q1.columns)"
   ]
  },
  {
   "cell_type": "code",
   "execution_count": 31,
   "id": "717d991f-958f-4263-906c-8e9c230ea42e",
   "metadata": {},
   "outputs": [],
   "source": [
    "# Remplacer Nan par '*'\n",
    "df_Q1 = df_Q1.fillna(value=0)"
   ]
  },
  {
   "cell_type": "code",
   "execution_count": 32,
   "id": "06bb7119-ebf0-4f10-b6af-cca4b8332695",
   "metadata": {},
   "outputs": [
    {
     "name": "stdout",
     "output_type": "stream",
     "text": [
      "identifiant False\n",
      "Arrondissement False\n",
      "P1D False\n",
      "P1F False\n",
      "P2D False\n",
      "P2F False\n"
     ]
    }
   ],
   "source": [
    "for col in df_Q1.columns.tolist():\n",
    "    print(col, df_Q1[col].isnull().any())"
   ]
  },
  {
   "cell_type": "code",
   "execution_count": 33,
   "id": "0c12ee77-be7f-4ae1-ac9f-ef70f9660254",
   "metadata": {},
   "outputs": [
    {
     "name": "stderr",
     "output_type": "stream",
     "text": [
      "<ipython-input-33-f57300601961>:9: SettingWithCopyWarning: \n",
      "A value is trying to be set on a copy of a slice from a DataFrame\n",
      "\n",
      "See the caveats in the documentation: https://pandas.pydata.org/pandas-docs/stable/user_guide/indexing.html#returning-a-view-versus-a-copy\n",
      "  df_Q1[col][row] = tmp\n",
      "finit\n"
     ]
    }
   ],
   "source": [
    "# 'plage horaire' en minutes\n",
    "list_PH = ['P1D', 'P1F', 'P2D', 'P2F']\n",
    "\n",
    "for row in range(df_Q1.shape[0]):\n",
    "    tmp = 0\n",
    "    for col in list_PH:\n",
    "        if df_Q1[col][row] != 0:\n",
    "            tmp = int(df_Q1[col][row][:2])*60 + int(df_Q1[col][row][-2:])            \n",
    "            df_Q1[col][row] = tmp\n",
    "        else:       \n",
    "            pass\n",
    "print('finit')"
   ]
  },
  {
   "cell_type": "code",
   "execution_count": 34,
   "id": "bcd0f581-1a83-4568-9357-d495d4e78e46",
   "metadata": {},
   "outputs": [
    {
     "name": "stdout",
     "output_type": "stream",
     "text": [
      "identifiant ['3210' '3232' '3271' ... '10812' '10848' '10859']\n",
      "Arrondissement [13.  5.  6. 11. 20. 18. 19. 15. 12.  4.  7. 16. 14.  9. 17.  0.  2.  8.\n",
      " 10. 21.  1. 22.  3. -1.]\n",
      "P1D [1170 0 570 300 420 1140 450 840 1160 495]\n",
      "P1F [450 0 990 1140 870 1080 420 570 1050 440 1200 525]\n",
      "P2D [570 0 1170 450 300 990 1200 1140 578 540 975]\n",
      "P2F [990 0 450 870 570 1170 1320 1110 960 989 1005 1050]\n"
     ]
    }
   ],
   "source": [
    "for col in df_Q1.columns.tolist():\n",
    "    print(col, df_Q1[col].unique())"
   ]
  },
  {
   "cell_type": "code",
   "execution_count": 35,
   "id": "ce133772-5a95-4a72-a5b2-2c338875344e",
   "metadata": {},
   "outputs": [
    {
     "name": "stderr",
     "output_type": "stream",
     "text": [
      "<ipython-input-35-9873e9847e8f>:3: DeprecationWarning: The default dtype for empty Series will be 'object' instead of 'float64' in a future version. Specify a dtype explicitly to silence this warning.\n",
      "  df_Q1['Duree'] = pandas.Series([])\n",
      "<ipython-input-35-9873e9847e8f>:28: SettingWithCopyWarning: \n",
      "A value is trying to be set on a copy of a slice from a DataFrame\n",
      "\n",
      "See the caveats in the documentation: https://pandas.pydata.org/pandas-docs/stable/user_guide/indexing.html#returning-a-view-versus-a-copy\n",
      "  df_Q1['Duree'][row] = créneau_1 + créneau_2\n",
      "<ipython-input-35-9873e9847e8f>:26: SettingWithCopyWarning: \n",
      "A value is trying to be set on a copy of a slice from a DataFrame\n",
      "\n",
      "See the caveats in the documentation: https://pandas.pydata.org/pandas-docs/stable/user_guide/indexing.html#returning-a-view-versus-a-copy\n",
      "  df_Q1['Duree'][row] = 24*60\n",
      "1440.0    19760\n",
      "1140.0      683\n",
      "1110.0       10\n",
      "1170.0        6\n",
      "1740.0        6\n",
      "          ...  \n",
      "1139.0        1\n",
      "1380.0        1\n",
      "1132.0        1\n",
      "210.0         1\n",
      "660.0         1\n",
      "Name: Duree, Length: 21, dtype: int64\n"
     ]
    }
   ],
   "source": [
    "# Calculer les durées des plages\n",
    "# Créer la colonne Duree et la remplir\n",
    "df_Q1['Duree'] = pandas.Series([])\n",
    "\n",
    "for row in range(df_Q1.shape[0]):\n",
    "    # Plage Horaire 1\n",
    "    créneau_1 = 0\n",
    "    if df_Q1['P1F'][row] == 0:\n",
    "        pass\n",
    "    elif df_Q1['P1F'][row] > df_Q1['P1D'][row]:\n",
    "        créneau_1 = df_Q1['P1F'][row] - df_Q1['P1D'][row]\n",
    "    else:\n",
    "        créneau_1 = 24*60 + (df_Q1['P1F'][row] - df_Q1['P1D'][row])\n",
    "\n",
    "    # Plage Horaire 2\n",
    "    créneau_2 = 0\n",
    "    if df_Q1['P2F'][row] == 0:\n",
    "        pass\n",
    "    elif df_Q1['P2F'][row] > df_Q1['P2D'][row]:\n",
    "        créneau_2 = df_Q1['P2F'][row] - df_Q1['P2D'][row]\n",
    "    else:\n",
    "        créneau_2 = 24*60 + (df_Q1['P2F'][row] - df_Q1['P2D'][row])\n",
    "        \n",
    "    # La colonne 'Duree'\n",
    "    if (créneau_1 + créneau_2) == 0:\n",
    "        df_Q1['Duree'][row] = 24*60\n",
    "    else:\n",
    "        df_Q1['Duree'][row] = créneau_1 + créneau_2\n",
    "print(df_Q1['Duree'].value_counts(dropna=False))"
   ]
  },
  {
   "cell_type": "code",
   "execution_count": 38,
   "id": "db222221",
   "metadata": {},
   "outputs": [
    {
     "name": "stdout",
     "output_type": "stream",
     "text": [
      "  identifiant  Arrondissement   P1D  P1F  P2D  P2F   Duree\n",
      "0        3210            13.0  1170  450  570  990  1140.0\n",
      "1        3232            13.0     0    0    0    0  1440.0\n",
      "2        3271             5.0     0    0    0    0  1440.0\n",
      "3        3280             5.0     0    0    0    0  1440.0\n",
      "4        3277             5.0     0    0    0    0  1440.0\n"
     ]
    }
   ],
   "source": [
    "print(df_Q1.head())"
   ]
  },
  {
   "cell_type": "code",
   "execution_count": 40,
   "id": "61b72949",
   "metadata": {},
   "outputs": [
    {
     "data": {
      "text/html": [
       "<div>\n",
       "<style scoped>\n",
       "    .dataframe tbody tr th:only-of-type {\n",
       "        vertical-align: middle;\n",
       "    }\n",
       "\n",
       "    .dataframe tbody tr th {\n",
       "        vertical-align: top;\n",
       "    }\n",
       "\n",
       "    .dataframe thead th {\n",
       "        text-align: right;\n",
       "    }\n",
       "</style>\n",
       "<table border=\"1\" class=\"dataframe\">\n",
       "  <thead>\n",
       "    <tr style=\"text-align: right;\">\n",
       "      <th></th>\n",
       "      <th>identifiant</th>\n",
       "      <th>Arrondissement</th>\n",
       "      <th>Duree</th>\n",
       "    </tr>\n",
       "  </thead>\n",
       "  <tbody>\n",
       "    <tr>\n",
       "      <th>0</th>\n",
       "      <td>3210</td>\n",
       "      <td>13.0</td>\n",
       "      <td>1140.0</td>\n",
       "    </tr>\n",
       "    <tr>\n",
       "      <th>1</th>\n",
       "      <td>3232</td>\n",
       "      <td>13.0</td>\n",
       "      <td>1440.0</td>\n",
       "    </tr>\n",
       "    <tr>\n",
       "      <th>2</th>\n",
       "      <td>3271</td>\n",
       "      <td>5.0</td>\n",
       "      <td>1440.0</td>\n",
       "    </tr>\n",
       "    <tr>\n",
       "      <th>3</th>\n",
       "      <td>3280</td>\n",
       "      <td>5.0</td>\n",
       "      <td>1440.0</td>\n",
       "    </tr>\n",
       "    <tr>\n",
       "      <th>4</th>\n",
       "      <td>3277</td>\n",
       "      <td>5.0</td>\n",
       "      <td>1440.0</td>\n",
       "    </tr>\n",
       "  </tbody>\n",
       "</table>\n",
       "</div>"
      ],
      "text/plain": [
       "  identifiant  Arrondissement   Duree\n",
       "0        3210            13.0  1140.0\n",
       "1        3232            13.0  1440.0\n",
       "2        3271             5.0  1440.0\n",
       "3        3280             5.0  1440.0\n",
       "4        3277             5.0  1440.0"
      ]
     },
     "execution_count": 40,
     "metadata": {},
     "output_type": "execute_result"
    }
   ],
   "source": [
    "# Enlever les colonnes 'Plage Horaire'\n",
    "df_Q1_Clean = df_Q1.loc[:, ['identifiant', 'Arrondissement', 'Duree']]\n",
    "df_Q1_Clean.head()"
   ]
  },
  {
   "cell_type": "code",
   "execution_count": 42,
   "id": "56d0b2ad",
   "metadata": {},
   "outputs": [],
   "source": [
    "df_Q1_Clean.to_csv('df_Q1_Clean', index=False)"
   ]
  },
  {
   "cell_type": "code",
   "execution_count": null,
   "id": "f32d5747",
   "metadata": {},
   "outputs": [],
   "source": []
  }
 ],
 "metadata": {
  "interpreter": {
   "hash": "916dbcbb3f70747c44a77c7bcd40155683ae19c65e1c03b4aa3499c5328201f1"
  },
  "kernelspec": {
   "display_name": "Python 3",
   "language": "python",
   "name": "python3"
  },
  "language_info": {
   "codemirror_mode": {
    "name": "ipython",
    "version": 3
   },
   "file_extension": ".py",
   "mimetype": "text/x-python",
   "name": "python",
   "nbconvert_exporter": "python",
   "pygments_lexer": "ipython3",
   "version": "3.7.3"
  }
 },
 "nbformat": 4,
 "nbformat_minor": 5
}
